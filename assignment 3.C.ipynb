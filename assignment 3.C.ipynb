{
 "cells": [
  {
   "cell_type": "code",
   "execution_count": 147,
   "id": "4311a3f9",
   "metadata": {},
   "outputs": [],
   "source": [
    "import pandas as pd\n",
    "import seaborn as sns\n",
    "import matplotlib.pyplot as plt\n",
    "import nltk\n",
    "import string\n",
    "from nltk.corpus import stopwords\n",
    "from sklearn.feature_extraction.text import CountVectorizer\n",
    "from sklearn.metrics import classification_report\n",
    "from sklearn.naive_bayes import MultinomialNB\n",
    "from sklearn.model_selection import train_test_split\n",
    "from sklearn.feature_extraction.text import TfidfTransformer"
   ]
  },
  {
   "cell_type": "code",
   "execution_count": 148,
   "id": "7ac63e09",
   "metadata": {},
   "outputs": [
    {
     "data": {
      "text/html": [
       "<div>\n",
       "<style scoped>\n",
       "    .dataframe tbody tr th:only-of-type {\n",
       "        vertical-align: middle;\n",
       "    }\n",
       "\n",
       "    .dataframe tbody tr th {\n",
       "        vertical-align: top;\n",
       "    }\n",
       "\n",
       "    .dataframe thead th {\n",
       "        text-align: right;\n",
       "    }\n",
       "</style>\n",
       "<table border=\"1\" class=\"dataframe\">\n",
       "  <thead>\n",
       "    <tr style=\"text-align: right;\">\n",
       "      <th></th>\n",
       "      <th>label</th>\n",
       "      <th>message</th>\n",
       "    </tr>\n",
       "  </thead>\n",
       "  <tbody>\n",
       "    <tr>\n",
       "      <th>0</th>\n",
       "      <td>ham</td>\n",
       "      <td>Go until jurong point, crazy.. Available only ...</td>\n",
       "    </tr>\n",
       "    <tr>\n",
       "      <th>1</th>\n",
       "      <td>ham</td>\n",
       "      <td>Ok lar... Joking wif u oni...</td>\n",
       "    </tr>\n",
       "    <tr>\n",
       "      <th>2</th>\n",
       "      <td>spam</td>\n",
       "      <td>Free entry in 2 a wkly comp to win FA Cup fina...</td>\n",
       "    </tr>\n",
       "    <tr>\n",
       "      <th>3</th>\n",
       "      <td>ham</td>\n",
       "      <td>U dun say so early hor... U c already then say...</td>\n",
       "    </tr>\n",
       "    <tr>\n",
       "      <th>4</th>\n",
       "      <td>ham</td>\n",
       "      <td>Nah I don't think he goes to usf, he lives aro...</td>\n",
       "    </tr>\n",
       "  </tbody>\n",
       "</table>\n",
       "</div>"
      ],
      "text/plain": [
       "  label                                            message\n",
       "0   ham  Go until jurong point, crazy.. Available only ...\n",
       "1   ham                      Ok lar... Joking wif u oni...\n",
       "2  spam  Free entry in 2 a wkly comp to win FA Cup fina...\n",
       "3   ham  U dun say so early hor... U c already then say...\n",
       "4   ham  Nah I don't think he goes to usf, he lives aro..."
      ]
     },
     "execution_count": 148,
     "metadata": {},
     "output_type": "execute_result"
    }
   ],
   "source": [
    "messages = pd.read_csv('SmsCollection.csv', sep=';', names=[\"label\", \"message\"], skiprows=1)\n",
    "messages.head()"
   ]
  },
  {
   "cell_type": "code",
   "execution_count": 149,
   "id": "8033785a",
   "metadata": {},
   "outputs": [
    {
     "data": {
      "text/html": [
       "<div>\n",
       "<style scoped>\n",
       "    .dataframe tbody tr th:only-of-type {\n",
       "        vertical-align: middle;\n",
       "    }\n",
       "\n",
       "    .dataframe tbody tr th {\n",
       "        vertical-align: top;\n",
       "    }\n",
       "\n",
       "    .dataframe thead th {\n",
       "        text-align: right;\n",
       "    }\n",
       "</style>\n",
       "<table border=\"1\" class=\"dataframe\">\n",
       "  <thead>\n",
       "    <tr style=\"text-align: right;\">\n",
       "      <th></th>\n",
       "      <th>label</th>\n",
       "      <th>message</th>\n",
       "    </tr>\n",
       "  </thead>\n",
       "  <tbody>\n",
       "    <tr>\n",
       "      <th>count</th>\n",
       "      <td>5572</td>\n",
       "      <td>5570</td>\n",
       "    </tr>\n",
       "    <tr>\n",
       "      <th>unique</th>\n",
       "      <td>2</td>\n",
       "      <td>5158</td>\n",
       "    </tr>\n",
       "    <tr>\n",
       "      <th>top</th>\n",
       "      <td>ham</td>\n",
       "      <td>Sorry, I'll call later</td>\n",
       "    </tr>\n",
       "    <tr>\n",
       "      <th>freq</th>\n",
       "      <td>4825</td>\n",
       "      <td>30</td>\n",
       "    </tr>\n",
       "  </tbody>\n",
       "</table>\n",
       "</div>"
      ],
      "text/plain": [
       "       label                 message\n",
       "count   5572                    5570\n",
       "unique     2                    5158\n",
       "top      ham  Sorry, I'll call later\n",
       "freq    4825                      30"
      ]
     },
     "execution_count": 149,
     "metadata": {},
     "output_type": "execute_result"
    }
   ],
   "source": [
    "messages.describe()"
   ]
  },
  {
   "cell_type": "code",
   "execution_count": 150,
   "id": "bc5eef2f",
   "metadata": {},
   "outputs": [
    {
     "data": {
      "text/html": [
       "<div>\n",
       "<style scoped>\n",
       "    .dataframe tbody tr th:only-of-type {\n",
       "        vertical-align: middle;\n",
       "    }\n",
       "\n",
       "    .dataframe tbody tr th {\n",
       "        vertical-align: top;\n",
       "    }\n",
       "\n",
       "    .dataframe thead tr th {\n",
       "        text-align: left;\n",
       "    }\n",
       "\n",
       "    .dataframe thead tr:last-of-type th {\n",
       "        text-align: right;\n",
       "    }\n",
       "</style>\n",
       "<table border=\"1\" class=\"dataframe\">\n",
       "  <thead>\n",
       "    <tr>\n",
       "      <th></th>\n",
       "      <th colspan=\"4\" halign=\"left\">message</th>\n",
       "    </tr>\n",
       "    <tr>\n",
       "      <th></th>\n",
       "      <th>count</th>\n",
       "      <th>unique</th>\n",
       "      <th>top</th>\n",
       "      <th>freq</th>\n",
       "    </tr>\n",
       "    <tr>\n",
       "      <th>label</th>\n",
       "      <th></th>\n",
       "      <th></th>\n",
       "      <th></th>\n",
       "      <th></th>\n",
       "    </tr>\n",
       "  </thead>\n",
       "  <tbody>\n",
       "    <tr>\n",
       "      <th>ham</th>\n",
       "      <td>4823</td>\n",
       "      <td>4505</td>\n",
       "      <td>Sorry, I'll call later</td>\n",
       "      <td>30</td>\n",
       "    </tr>\n",
       "    <tr>\n",
       "      <th>spam</th>\n",
       "      <td>747</td>\n",
       "      <td>653</td>\n",
       "      <td>Please call our customer service representativ...</td>\n",
       "      <td>4</td>\n",
       "    </tr>\n",
       "  </tbody>\n",
       "</table>\n",
       "</div>"
      ],
      "text/plain": [
       "      message                                                               \n",
       "        count unique                                                top freq\n",
       "label                                                                       \n",
       "ham      4823   4505                             Sorry, I'll call later   30\n",
       "spam      747    653  Please call our customer service representativ...    4"
      ]
     },
     "execution_count": 150,
     "metadata": {},
     "output_type": "execute_result"
    }
   ],
   "source": [
    "messages.groupby('label').describe()"
   ]
  },
  {
   "cell_type": "code",
   "execution_count": 151,
   "id": "3cae8e96",
   "metadata": {},
   "outputs": [
    {
     "data": {
      "text/html": [
       "<div>\n",
       "<style scoped>\n",
       "    .dataframe tbody tr th:only-of-type {\n",
       "        vertical-align: middle;\n",
       "    }\n",
       "\n",
       "    .dataframe tbody tr th {\n",
       "        vertical-align: top;\n",
       "    }\n",
       "\n",
       "    .dataframe thead th {\n",
       "        text-align: right;\n",
       "    }\n",
       "</style>\n",
       "<table border=\"1\" class=\"dataframe\">\n",
       "  <thead>\n",
       "    <tr style=\"text-align: right;\">\n",
       "      <th></th>\n",
       "      <th>label</th>\n",
       "      <th>message</th>\n",
       "      <th>length</th>\n",
       "    </tr>\n",
       "  </thead>\n",
       "  <tbody>\n",
       "    <tr>\n",
       "      <th>0</th>\n",
       "      <td>ham</td>\n",
       "      <td>Go until jurong point, crazy.. Available only ...</td>\n",
       "      <td>111</td>\n",
       "    </tr>\n",
       "    <tr>\n",
       "      <th>1</th>\n",
       "      <td>ham</td>\n",
       "      <td>Ok lar... Joking wif u oni...</td>\n",
       "      <td>29</td>\n",
       "    </tr>\n",
       "    <tr>\n",
       "      <th>2</th>\n",
       "      <td>spam</td>\n",
       "      <td>Free entry in 2 a wkly comp to win FA Cup fina...</td>\n",
       "      <td>155</td>\n",
       "    </tr>\n",
       "    <tr>\n",
       "      <th>3</th>\n",
       "      <td>ham</td>\n",
       "      <td>U dun say so early hor... U c already then say...</td>\n",
       "      <td>49</td>\n",
       "    </tr>\n",
       "    <tr>\n",
       "      <th>4</th>\n",
       "      <td>ham</td>\n",
       "      <td>Nah I don't think he goes to usf, he lives aro...</td>\n",
       "      <td>61</td>\n",
       "    </tr>\n",
       "  </tbody>\n",
       "</table>\n",
       "</div>"
      ],
      "text/plain": [
       "  label                                            message  length\n",
       "0   ham  Go until jurong point, crazy.. Available only ...     111\n",
       "1   ham                      Ok lar... Joking wif u oni...      29\n",
       "2  spam  Free entry in 2 a wkly comp to win FA Cup fina...     155\n",
       "3   ham  U dun say so early hor... U c already then say...      49\n",
       "4   ham  Nah I don't think he goes to usf, he lives aro...      61"
      ]
     },
     "execution_count": 151,
     "metadata": {},
     "output_type": "execute_result"
    }
   ],
   "source": [
    "messages = messages.astype(str)\n",
    "\n",
    "messages['length'] = messages['message'].apply(len)\n",
    "messages.head()"
   ]
  },
  {
   "cell_type": "code",
   "execution_count": 152,
   "id": "f304473f",
   "metadata": {},
   "outputs": [
    {
     "data": {
      "text/plain": [
       "(array([2.25e+02, 1.51e+03, 9.93e+02, 6.04e+02, 4.42e+02, 3.03e+02,\n",
       "        3.17e+02, 3.89e+02, 6.23e+02, 6.60e+01, 2.20e+01, 1.20e+01,\n",
       "        1.70e+01, 1.00e+01, 1.00e+00, 1.10e+01, 5.00e+00, 3.00e+00,\n",
       "        3.00e+00, 2.00e+00, 3.00e+00, 1.00e+00, 2.00e+00, 3.00e+00,\n",
       "        0.00e+00, 1.00e+00, 0.00e+00, 0.00e+00, 0.00e+00, 0.00e+00,\n",
       "        0.00e+00, 0.00e+00, 2.00e+00, 0.00e+00, 0.00e+00, 0.00e+00,\n",
       "        0.00e+00, 0.00e+00, 0.00e+00, 0.00e+00, 0.00e+00, 0.00e+00,\n",
       "        0.00e+00, 1.00e+00, 0.00e+00, 0.00e+00, 0.00e+00, 0.00e+00,\n",
       "        0.00e+00, 1.00e+00]),\n",
       " array([  2.  ,  20.16,  38.32,  56.48,  74.64,  92.8 , 110.96, 129.12,\n",
       "        147.28, 165.44, 183.6 , 201.76, 219.92, 238.08, 256.24, 274.4 ,\n",
       "        292.56, 310.72, 328.88, 347.04, 365.2 , 383.36, 401.52, 419.68,\n",
       "        437.84, 456.  , 474.16, 492.32, 510.48, 528.64, 546.8 , 564.96,\n",
       "        583.12, 601.28, 619.44, 637.6 , 655.76, 673.92, 692.08, 710.24,\n",
       "        728.4 , 746.56, 764.72, 782.88, 801.04, 819.2 , 837.36, 855.52,\n",
       "        873.68, 891.84, 910.  ]),\n",
       " <a list of 50 Patch objects>)"
      ]
     },
     "execution_count": 152,
     "metadata": {},
     "output_type": "execute_result"
    },
    {
     "data": {
      "image/png": "[encoded data removed]",
      "text/plain": [
       "<Figure size 432x288 with 1 Axes>"
      ]
     },
     "metadata": {
      "needs_background": "light"
     },
     "output_type": "display_data"
    }
   ],
   "source": [
    "plt.hist(messages['length'],bins=50) "
   ]
  },
  {
   "cell_type": "code",
   "execution_count": 153,
   "id": "3249898c",
   "metadata": {},
   "outputs": [
    {
     "data": {
      "text/plain": [
       "count    5572.000000\n",
       "mean       76.935032\n",
       "std        56.060486\n",
       "min         2.000000\n",
       "25%        34.000000\n",
       "50%        58.000000\n",
       "75%       116.250000\n",
       "max       910.000000\n",
       "Name: length, dtype: float64"
      ]
     },
     "execution_count": 153,
     "metadata": {},
     "output_type": "execute_result"
    }
   ],
   "source": [
    "messages.length.describe()"
   ]
  },
  {
   "cell_type": "code",
   "execution_count": 154,
   "id": "5a8102bb",
   "metadata": {},
   "outputs": [
    {
     "data": {
      "text/plain": [
       "array([<matplotlib.axes._subplots.AxesSubplot object at 0x0000023D24E4DAC0>,\n",
       "       <matplotlib.axes._subplots.AxesSubplot object at 0x0000023D24E74730>],\n",
       "      dtype=object)"
      ]
     },
     "execution_count": 154,
     "metadata": {},
     "output_type": "execute_result"
    },
    {
     "data": {
      "image/png": "[encoded data removed]",
      "text/plain": [
       "<Figure size 864x288 with 2 Axes>"
      ]
     },
     "metadata": {
      "needs_background": "light"
     },
     "output_type": "display_data"
    }
   ],
   "source": [
    "\n",
    "messages.hist(column='length', by='label', bins=50,figsize=(12,4))"
   ]
  },
  {
   "cell_type": "code",
   "execution_count": 155,
   "id": "f3eae000",
   "metadata": {},
   "outputs": [
    {
     "name": "stdout",
     "output_type": "stream",
     "text": [
      "Ham:\n",
      " count    4825.000000\n",
      "mean       67.382798\n",
      "std        53.090550\n",
      "min         2.000000\n",
      "25%        32.000000\n",
      "50%        50.000000\n",
      "75%        87.000000\n",
      "max       910.000000\n",
      "Name: length, dtype: float64\n",
      "Spam:\n",
      " count    747.000000\n",
      "mean     138.634538\n",
      "std       29.002617\n",
      "min       13.000000\n",
      "25%      133.000000\n",
      "50%      149.000000\n",
      "75%      157.000000\n",
      "max      223.000000\n",
      "Name: length, dtype: float64\n"
     ]
    }
   ],
   "source": [
    "print('Ham:\\n',messages[messages['label']=='ham'].length.describe())\n",
    "print('Spam:\\n',messages[messages['label']=='spam'].length.describe())"
   ]
  },
  {
   "cell_type": "markdown",
   "id": "2eb02378",
   "metadata": {},
   "source": [
    "Average length of spam message is larger"
   ]
  },
  {
   "cell_type": "code",
   "execution_count": 156,
   "id": "a31cc1a0",
   "metadata": {},
   "outputs": [],
   "source": [
    "def text_process(mess):\n",
    "    nopunc = [char for char in mess if char not in string.punctuation]\n",
    "    nopunc = ''.join(nopunc)\n",
    "    \n",
    "    return [word for word in nopunc.split() if word.lower() not in stopwords.words('english')]"
   ]
  },
  {
   "cell_type": "code",
   "execution_count": 157,
   "id": "ff845df9",
   "metadata": {},
   "outputs": [
    {
     "data": {
      "text/html": [
       "<div>\n",
       "<style scoped>\n",
       "    .dataframe tbody tr th:only-of-type {\n",
       "        vertical-align: middle;\n",
       "    }\n",
       "\n",
       "    .dataframe tbody tr th {\n",
       "        vertical-align: top;\n",
       "    }\n",
       "\n",
       "    .dataframe thead th {\n",
       "        text-align: right;\n",
       "    }\n",
       "</style>\n",
       "<table border=\"1\" class=\"dataframe\">\n",
       "  <thead>\n",
       "    <tr style=\"text-align: right;\">\n",
       "      <th></th>\n",
       "      <th>label</th>\n",
       "      <th>message</th>\n",
       "      <th>length</th>\n",
       "    </tr>\n",
       "  </thead>\n",
       "  <tbody>\n",
       "    <tr>\n",
       "      <th>0</th>\n",
       "      <td>ham</td>\n",
       "      <td>Go until jurong point, crazy.. Available only ...</td>\n",
       "      <td>111</td>\n",
       "    </tr>\n",
       "    <tr>\n",
       "      <th>1</th>\n",
       "      <td>ham</td>\n",
       "      <td>Ok lar... Joking wif u oni...</td>\n",
       "      <td>29</td>\n",
       "    </tr>\n",
       "    <tr>\n",
       "      <th>2</th>\n",
       "      <td>spam</td>\n",
       "      <td>Free entry in 2 a wkly comp to win FA Cup fina...</td>\n",
       "      <td>155</td>\n",
       "    </tr>\n",
       "    <tr>\n",
       "      <th>3</th>\n",
       "      <td>ham</td>\n",
       "      <td>U dun say so early hor... U c already then say...</td>\n",
       "      <td>49</td>\n",
       "    </tr>\n",
       "    <tr>\n",
       "      <th>4</th>\n",
       "      <td>ham</td>\n",
       "      <td>Nah I don't think he goes to usf, he lives aro...</td>\n",
       "      <td>61</td>\n",
       "    </tr>\n",
       "  </tbody>\n",
       "</table>\n",
       "</div>"
      ],
      "text/plain": [
       "  label                                            message  length\n",
       "0   ham  Go until jurong point, crazy.. Available only ...     111\n",
       "1   ham                      Ok lar... Joking wif u oni...      29\n",
       "2  spam  Free entry in 2 a wkly comp to win FA Cup fina...     155\n",
       "3   ham  U dun say so early hor... U c already then say...      49\n",
       "4   ham  Nah I don't think he goes to usf, he lives aro...      61"
      ]
     },
     "execution_count": 157,
     "metadata": {},
     "output_type": "execute_result"
    }
   ],
   "source": [
    "messages.head()"
   ]
  },
  {
   "cell_type": "code",
   "execution_count": 158,
   "id": "36876cdc",
   "metadata": {},
   "outputs": [],
   "source": [
    "msg_train, msg_test, label_train, label_test = train_test_split(messages['message'], messages['label'])\n",
    "\n",
    "msg_train_len = msg_train.apply(len)\n",
    "msg_test_len = msg_test.apply(len)"
   ]
  },
  {
   "cell_type": "code",
   "execution_count": 159,
   "id": "acee2b44",
   "metadata": {},
   "outputs": [
    {
     "data": {
      "text/plain": [
       "0       [Go, jurong, point, crazy, Available, bugis, n...\n",
       "1                          [Ok, lar, Joking, wif, u, oni]\n",
       "2       [Free, entry, 2, wkly, comp, win, FA, Cup, fin...\n",
       "3           [U, dun, say, early, hor, U, c, already, say]\n",
       "4       [Nah, dont, think, goes, usf, lives, around, t...\n",
       "                              ...                        \n",
       "5567    [2nd, time, tried, 2, contact, u, U, £750, Pou...\n",
       "5568                   [ü, b, going, esplanade, fr, home]\n",
       "5569                     [Pity, mood, Soany, suggestions]\n",
       "5570    [guy, bitching, acted, like, id, interested, b...\n",
       "5571                                   [Rofl, true, name]\n",
       "Name: message, Length: 5572, dtype: object"
      ]
     },
     "execution_count": 159,
     "metadata": {},
     "output_type": "execute_result"
    }
   ],
   "source": [
    "messages['message'].apply(text_process)"
   ]
  },
  {
   "cell_type": "code",
   "execution_count": 160,
   "id": "51aa92ac",
   "metadata": {},
   "outputs": [
    {
     "data": {
      "text/plain": [
       "51                        [gram, usually, runs, like, lt]\n",
       "2257                      [checked, heading, drop, stuff]\n",
       "4250       [Loosu, go, hospital, De, dont, let, careless]\n",
       "4685    [life, Means, lot, love, life, love, people, l...\n",
       "2329                          [day, asked, anand, number]\n",
       "                              ...                        \n",
       "1731                             [project, w, frens, lor]\n",
       "368     [discount, code, RP176781, stop, messages, rep...\n",
       "1270                [Tee, hee, lecture, cheery, bye, bye]\n",
       "3269       [never, wanted, tell, im, short, onedge, late]\n",
       "4772                                [Hii, got, money, da]\n",
       "Name: message, Length: 4179, dtype: object"
      ]
     },
     "execution_count": 160,
     "metadata": {},
     "output_type": "execute_result"
    }
   ],
   "source": [
    "msg_train.apply(text_process)"
   ]
  },
  {
   "cell_type": "code",
   "execution_count": 161,
   "id": "3b928686",
   "metadata": {},
   "outputs": [
    {
     "data": {
      "text/plain": [
       "1695    [Ü, eatin, later, im, eatin, wif, frens, lei, ...\n",
       "1515                                 [Kall, bestcongrats]\n",
       "3095    [emigrated, something, Ok, maybe, 530, bit, ho...\n",
       "2798         [get, ten, billion, calls, texts, help, god]\n",
       "4747              [Orh, tot, u, say, still, dun, believe]\n",
       "                              ...                        \n",
       "1568                       [whatever, im, pretty, pissed]\n",
       "3698    [winner, specially, selected, receive, £1000, ...\n",
       "3323    [Ok, darlin, supose, ok, worry, muchi, film, s...\n",
       "1843                                  [comingdown, later]\n",
       "1812    [ü, wan, 2, meet, n, combine, parts, Hows, da,...\n",
       "Name: message, Length: 1393, dtype: object"
      ]
     },
     "execution_count": 161,
     "metadata": {},
     "output_type": "execute_result"
    }
   ],
   "source": [
    "msg_test.apply(text_process)"
   ]
  },
  {
   "cell_type": "code",
   "execution_count": 162,
   "id": "2298cde0",
   "metadata": {},
   "outputs": [],
   "source": [
    "bow_transformer = CountVectorizer(analyzer=text_process).fit(messages['message'])\n",
    "#bow_transformer1 = CountVectorizer(analyzer=text_process).fit(msg_train)\n",
    "#bow_transformer2 = CountVectorizer(analyzer=text_process).fit(msg_test)\n",
    "#messages_bow = bow_transformer.transform(messages['message'])\n",
    "messages_bow_train = bow_transformer.transform(msg_train)\n",
    "messages_bow_test = bow_transformer.transform(msg_test)"
   ]
  },
  {
   "cell_type": "code",
   "execution_count": 163,
   "id": "aa7aeea0",
   "metadata": {},
   "outputs": [
    {
     "name": "stdout",
     "output_type": "stream",
     "text": [
      "Shape of Sparse Matrix:  (4179, 11065)\n",
      "Shape of Sparse Matrix:  (1393, 11065)\n"
     ]
    }
   ],
   "source": [
    "print('Shape of Sparse Matrix: ', messages_bow_train.shape)\n",
    "print('Shape of Sparse Matrix: ', messages_bow_test.shape)"
   ]
  },
  {
   "cell_type": "code",
   "execution_count": 164,
   "id": "2bd89ad8",
   "metadata": {},
   "outputs": [],
   "source": [
    "#tfidf_transformer = TfidfTransformer().fit(messages_bow)\n",
    "tfidf_transformer1 = TfidfTransformer().fit(messages_bow_train)\n",
    "messages_tfidf_train = tfidf_transformer1.transform(messages_bow_train)\n",
    "tfidf_transformer2 = TfidfTransformer().fit(messages_bow_test)\n",
    "messages_tfidf_test = tfidf_transformer2.transform(messages_bow_test)"
   ]
  },
  {
   "cell_type": "code",
   "execution_count": 165,
   "id": "bce2b4bf",
   "metadata": {},
   "outputs": [
    {
     "data": {
      "text/plain": [
       "'\\nfrom scipy import sparse\\nimport numpy as np\\nfrom scipy.sparse import coo_matrix\\n\\nmsg_train_len = msg_train.apply(len)\\nmsg_train_len = np.array(msg_train_len)\\nmsg_train_len = msg_train_len[:,None]\\nmsg_train_len = coo_matrix(msg_train_len).tocsr()\\nmessages_train = sparse.hstack((messages_tfidf_train, msg_train_len))\\nmessages_train  = messages_train.tocsr()\\n\\nmsg_test_len = msg_test.apply(len)\\nmsg_test_len = np.array(msg_test_len)\\nmsg_test_len = msg_test_len[:,None]\\nmsg_test_len = coo_matrix(msg_test_len).tocsr()\\nmessages_test = sparse.hstack((messages_tfidf_test, msg_test_len))\\nmessages_test  = messages_test.tocsr()\\nprint(messages_test)\\n'"
      ]
     },
     "execution_count": 165,
     "metadata": {},
     "output_type": "execute_result"
    }
   ],
   "source": [
    "\"\"\"\n",
    "from scipy import sparse\n",
    "import numpy as np\n",
    "from scipy.sparse import coo_matrix\n",
    "\n",
    "msg_train_len = msg_train.apply(len)\n",
    "msg_train_len = np.array(msg_train_len)\n",
    "msg_train_len = msg_train_len[:,None]\n",
    "msg_train_len = coo_matrix(msg_train_len).tocsr()\n",
    "messages_train = sparse.hstack((messages_tfidf_train, msg_train_len))\n",
    "messages_train  = messages_train.tocsr()\n",
    "\n",
    "msg_test_len = msg_test.apply(len)\n",
    "msg_test_len = np.array(msg_test_len)\n",
    "msg_test_len = msg_test_len[:,None]\n",
    "msg_test_len = coo_matrix(msg_test_len).tocsr()\n",
    "messages_test = sparse.hstack((messages_tfidf_test, msg_test_len))\n",
    "messages_test  = messages_test.tocsr()\n",
    "print(messages_test)\n",
    "\"\"\""
   ]
  },
  {
   "cell_type": "code",
   "execution_count": 166,
   "id": "a8f8f442",
   "metadata": {},
   "outputs": [],
   "source": [
    "spam_detect_model = MultinomialNB().fit(messages_tfidf_train, label_train)"
   ]
  },
  {
   "cell_type": "code",
   "execution_count": 167,
   "id": "88ea2240",
   "metadata": {},
   "outputs": [],
   "source": [
    "all_predictions = spam_detect_model.predict(messages_tfidf_test)"
   ]
  },
  {
   "cell_type": "code",
   "execution_count": 168,
   "id": "28fc2b5c",
   "metadata": {},
   "outputs": [
    {
     "name": "stdout",
     "output_type": "stream",
     "text": [
      "[[1207    0]\n",
      " [  44  142]]\n"
     ]
    }
   ],
   "source": [
    "from sklearn.metrics import confusion_matrix\n",
    "matrix = confusion_matrix(label_test, all_predictions)\n",
    "print(matrix)\n",
    "# TP FN\n",
    "# FP TN"
   ]
  },
  {
   "cell_type": "code",
   "execution_count": 169,
   "id": "7ad4d530",
   "metadata": {},
   "outputs": [
    {
     "name": "stdout",
     "output_type": "stream",
     "text": [
      "              precision    recall  f1-score   support\n",
      "\n",
      "         ham       0.96      1.00      0.98      1207\n",
      "        spam       1.00      0.76      0.87       186\n",
      "\n",
      "    accuracy                           0.97      1393\n",
      "   macro avg       0.98      0.88      0.92      1393\n",
      "weighted avg       0.97      0.97      0.97      1393\n",
      "\n"
     ]
    }
   ],
   "source": [
    "report = classification_report(label_test, all_predictions)\n",
    "print(report)"
   ]
  },
  {
   "cell_type": "code",
   "execution_count": 170,
   "id": "ce11ec43",
   "metadata": {},
   "outputs": [
    {
     "name": "stdout",
     "output_type": "stream",
     "text": [
      "  (0, 6031)\t2\n",
      "  (0, 6370)\t1\n",
      "  (0, 6490)\t1\n",
      "  (0, 6658)\t1\n",
      "  (0, 6932)\t1\n",
      "  (0, 7073)\t1\n",
      "  (0, 7458)\t1\n",
      "  (0, 7500)\t1\n",
      "  (0, 10717)\t1\n",
      "  (0, 11055)\t2\n"
     ]
    }
   ],
   "source": [
    "print(messages_bow_test[0])"
   ]
  },
  {
   "cell_type": "code",
   "execution_count": null,
   "id": "0405e474",
   "metadata": {},
   "outputs": [],
   "source": []
  }
 ],
 "metadata": {
  "kernelspec": {
   "display_name": "Python 3 (ipykernel)",
   "language": "python",
   "name": "python3"
  },
  "language_info": {
   "codemirror_mode": {
    "name": "ipython",
    "version": 3
   },
   "file_extension": ".py",
   "mimetype": "text/x-python",
   "name": "python",
   "nbconvert_exporter": "python",
   "pygments_lexer": "ipython3",
   "version": "3.8.3"
  }
 },
 "nbformat": 4,
 "nbformat_minor": 5
}
